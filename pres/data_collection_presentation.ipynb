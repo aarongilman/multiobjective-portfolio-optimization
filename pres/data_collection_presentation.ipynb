{
 "cells": [
  {
   "cell_type": "markdown",
   "metadata": {
    "slideshow": {
     "slide_type": "slide"
    }
   },
   "source": [
    "# Data collection\n",
    "\n",
    "## Multiobjective portfolio optimization\n",
    "\n",
    "### Antti Luopajärvi"
   ]
  },
  {
   "cell_type": "code",
   "execution_count": 44,
   "metadata": {
    "slideshow": {
     "slide_type": "skip"
    }
   },
   "outputs": [],
   "source": [
    "import pandas as pd"
   ]
  },
  {
   "cell_type": "markdown",
   "metadata": {
    "slideshow": {
     "slide_type": "subslide"
    }
   },
   "source": [
    "Portfolio optimization traditionally aims to select assets that bring the most return on investment with the least risk. However, for some investors, there are also other factors to consider in addition to direct financial gain. Technology has made stock investing more easily approachable than ever, and growing number of new investors search not only to get return on their money but also to invest in companies with sustainable business. The term _ESG-investing_ means buying in companies with their environmental, social, and governance strategies in consideration."
   ]
  },
  {
   "cell_type": "markdown",
   "metadata": {
    "slideshow": {
     "slide_type": "slide"
    }
   },
   "source": [
    "### 1. Data and data source\n",
    "\n",
    "I have two types of data: \n",
    "\n",
    "1. Rankings on environmental,social and governance(ESG)- sustainability of companies.\n",
    "\n",
    "2. \"Traditional\" financial data, such as historical market returns, stock symbols, beta-coefficients(measure the volatility of a stock).\n",
    "\n",
    "Plan is to use type 1 data in objectives measuring level of sustainability of a stock. Type 2 data is used in objectives such as expected return on stock, dividends paid etc."
   ]
  },
  {
   "cell_type": "markdown",
   "metadata": {
    "slideshow": {
     "slide_type": "slide"
    }
   },
   "source": [
    "**Type 1 data is from three sources:** \n",
    "\n",
    "1. **Robecosam** ranks companies by ESG-scores, from 0 to 100. https://yearbook.robecosam.com/ranking/\n",
    "\n",
    "2. **Clean200** ranks companies by their solutions for transition to clean energy future. No scores, company either is on the list or not. https://www.asyousow.org/report-page/2020-clean200\n",
    "\n",
    "3. **ScienceBasedTargets** ranks companies by their science-based climate actions. No scores, company either is on the list or not. https://sciencebasedtargets.org/companies-taking-action/\n"
   ]
  },
  {
   "cell_type": "code",
   "execution_count": 45,
   "metadata": {
    "slideshow": {
     "slide_type": "skip"
    }
   },
   "outputs": [],
   "source": [
    "df_robeco = pd.read_csv(r'..\\data\\robecosam.csv')"
   ]
  },
  {
   "cell_type": "markdown",
   "metadata": {
    "slideshow": {
     "slide_type": "subslide"
    }
   },
   "source": [
    "E.g. Robecosam's ranking data looks like this:"
   ]
  },
  {
   "cell_type": "code",
   "execution_count": 46,
   "metadata": {
    "slideshow": {
     "slide_type": "fragment"
    }
   },
   "outputs": [
    {
     "data": {
      "text/html": [
       "<div>\n",
       "<style scoped>\n",
       "    .dataframe tbody tr th:only-of-type {\n",
       "        vertical-align: middle;\n",
       "    }\n",
       "\n",
       "    .dataframe tbody tr th {\n",
       "        vertical-align: top;\n",
       "    }\n",
       "\n",
       "    .dataframe thead th {\n",
       "        text-align: right;\n",
       "    }\n",
       "</style>\n",
       "<table border=\"1\" class=\"dataframe\">\n",
       "  <thead>\n",
       "    <tr style=\"text-align: right;\">\n",
       "      <th></th>\n",
       "      <th>Company</th>\n",
       "      <th>ESG score</th>\n",
       "    </tr>\n",
       "  </thead>\n",
       "  <tbody>\n",
       "    <tr>\n",
       "      <th>0</th>\n",
       "      <td>1&amp;1 Drillisch AG</td>\n",
       "      <td>4</td>\n",
       "    </tr>\n",
       "    <tr>\n",
       "      <th>1</th>\n",
       "      <td>2U Inc</td>\n",
       "      <td>9</td>\n",
       "    </tr>\n",
       "    <tr>\n",
       "      <th>2</th>\n",
       "      <td>3i Group PLC</td>\n",
       "      <td>50</td>\n",
       "    </tr>\n",
       "    <tr>\n",
       "      <th>3</th>\n",
       "      <td>51job Inc</td>\n",
       "      <td>9</td>\n",
       "    </tr>\n",
       "    <tr>\n",
       "      <th>4</th>\n",
       "      <td>58.com Inc</td>\n",
       "      <td>6</td>\n",
       "    </tr>\n",
       "  </tbody>\n",
       "</table>\n",
       "</div>"
      ],
      "text/plain": [
       "              Company  ESG score\n",
       "0   1&1 Drillisch AG           4\n",
       "1             2U Inc           9\n",
       "2       3i Group PLC          50\n",
       "3          51job Inc           9\n",
       "4         58.com Inc           6"
      ]
     },
     "execution_count": 46,
     "metadata": {},
     "output_type": "execute_result"
    }
   ],
   "source": [
    "df_robeco.head()"
   ]
  },
  {
   "cell_type": "markdown",
   "metadata": {
    "slideshow": {
     "slide_type": "slide"
    }
   },
   "source": [
    "**Type 2 data is from two sources**\n",
    "\n",
    "1. Yahoo Finance.\n",
    "\n",
    "2. Nasdaq.\n"
   ]
  },
  {
   "cell_type": "code",
   "execution_count": 47,
   "metadata": {
    "slideshow": {
     "slide_type": "skip"
    }
   },
   "outputs": [],
   "source": [
    "df_sp500 = pd.read_csv(r'..\\data\\sp500.csv')"
   ]
  },
  {
   "cell_type": "markdown",
   "metadata": {
    "slideshow": {
     "slide_type": "subslide"
    }
   },
   "source": [
    "E.g. S&P 500 historical data looks like this:"
   ]
  },
  {
   "cell_type": "code",
   "execution_count": 48,
   "metadata": {
    "slideshow": {
     "slide_type": "fragment"
    }
   },
   "outputs": [
    {
     "data": {
      "text/html": [
       "<div>\n",
       "<style scoped>\n",
       "    .dataframe tbody tr th:only-of-type {\n",
       "        vertical-align: middle;\n",
       "    }\n",
       "\n",
       "    .dataframe tbody tr th {\n",
       "        vertical-align: top;\n",
       "    }\n",
       "\n",
       "    .dataframe thead th {\n",
       "        text-align: right;\n",
       "    }\n",
       "</style>\n",
       "<table border=\"1\" class=\"dataframe\">\n",
       "  <thead>\n",
       "    <tr style=\"text-align: right;\">\n",
       "      <th></th>\n",
       "      <th>Date</th>\n",
       "      <th>Open</th>\n",
       "      <th>High</th>\n",
       "      <th>Low</th>\n",
       "      <th>Close</th>\n",
       "      <th>Adj Close</th>\n",
       "      <th>Volume</th>\n",
       "    </tr>\n",
       "  </thead>\n",
       "  <tbody>\n",
       "    <tr>\n",
       "      <th>0</th>\n",
       "      <td>1927-12-01</td>\n",
       "      <td>17.660000</td>\n",
       "      <td>17.660000</td>\n",
       "      <td>17.660000</td>\n",
       "      <td>17.660000</td>\n",
       "      <td>17.660000</td>\n",
       "      <td>0</td>\n",
       "    </tr>\n",
       "    <tr>\n",
       "      <th>1</th>\n",
       "      <td>1928-01-01</td>\n",
       "      <td>17.760000</td>\n",
       "      <td>17.760000</td>\n",
       "      <td>17.260000</td>\n",
       "      <td>17.570000</td>\n",
       "      <td>17.570000</td>\n",
       "      <td>0</td>\n",
       "    </tr>\n",
       "    <tr>\n",
       "      <th>2</th>\n",
       "      <td>1928-02-01</td>\n",
       "      <td>17.530001</td>\n",
       "      <td>17.629999</td>\n",
       "      <td>16.950001</td>\n",
       "      <td>17.260000</td>\n",
       "      <td>17.260000</td>\n",
       "      <td>0</td>\n",
       "    </tr>\n",
       "    <tr>\n",
       "      <th>3</th>\n",
       "      <td>1928-03-01</td>\n",
       "      <td>17.299999</td>\n",
       "      <td>19.280001</td>\n",
       "      <td>17.299999</td>\n",
       "      <td>19.280001</td>\n",
       "      <td>19.280001</td>\n",
       "      <td>0</td>\n",
       "    </tr>\n",
       "    <tr>\n",
       "      <th>4</th>\n",
       "      <td>1928-04-01</td>\n",
       "      <td>18.910000</td>\n",
       "      <td>19.750000</td>\n",
       "      <td>18.910000</td>\n",
       "      <td>19.750000</td>\n",
       "      <td>19.750000</td>\n",
       "      <td>0</td>\n",
       "    </tr>\n",
       "  </tbody>\n",
       "</table>\n",
       "</div>"
      ],
      "text/plain": [
       "         Date       Open       High        Low      Close  Adj Close  Volume\n",
       "0  1927-12-01  17.660000  17.660000  17.660000  17.660000  17.660000       0\n",
       "1  1928-01-01  17.760000  17.760000  17.260000  17.570000  17.570000       0\n",
       "2  1928-02-01  17.530001  17.629999  16.950001  17.260000  17.260000       0\n",
       "3  1928-03-01  17.299999  19.280001  17.299999  19.280001  19.280001       0\n",
       "4  1928-04-01  18.910000  19.750000  18.910000  19.750000  19.750000       0"
      ]
     },
     "execution_count": 48,
     "metadata": {},
     "output_type": "execute_result"
    }
   ],
   "source": [
    "df_sp500.head()"
   ]
  },
  {
   "cell_type": "markdown",
   "metadata": {
    "slideshow": {
     "slide_type": "slide"
    }
   },
   "source": [
    "### 2. Pre-processing\n",
    "\n",
    "**Altogether, in the beginning I had data from six different sources.**\n",
    "\n",
    "My plan is to combine information from multiple sources together. Thus far, I have done following:\n",
    "\n",
    "1. I took the **Robecosam's** data as a \"base\" data, since it had most companies listed.\n",
    "\n",
    "2. Went through **Clean200's** and **Sciencebasedtarget's** ratings and searched if a company occurs there or not.\n",
    "\n",
    "3. If the company occured on **Sciencebasedtarget's** rating list, took also the country information out.\n",
    "\n",
    "4. Went through Nasdaq's stock symbols list and searched for the companies there. If found, took the symbol out."
   ]
  },
  {
   "cell_type": "code",
   "execution_count": 49,
   "metadata": {
    "slideshow": {
     "slide_type": "skip"
    }
   },
   "outputs": [],
   "source": [
    "df_combined = pd.read_csv(r'../data/combined_data.csv')"
   ]
  },
  {
   "cell_type": "code",
   "execution_count": 50,
   "metadata": {
    "slideshow": {
     "slide_type": "subslide"
    }
   },
   "outputs": [
    {
     "data": {
      "text/html": [
       "<div>\n",
       "<style scoped>\n",
       "    .dataframe tbody tr th:only-of-type {\n",
       "        vertical-align: middle;\n",
       "    }\n",
       "\n",
       "    .dataframe tbody tr th {\n",
       "        vertical-align: top;\n",
       "    }\n",
       "\n",
       "    .dataframe thead th {\n",
       "        text-align: right;\n",
       "    }\n",
       "</style>\n",
       "<table border=\"1\" class=\"dataframe\">\n",
       "  <thead>\n",
       "    <tr style=\"text-align: right;\">\n",
       "      <th></th>\n",
       "      <th>Unnamed: 0</th>\n",
       "      <th>Company</th>\n",
       "      <th>ESG score</th>\n",
       "      <th>Clean200</th>\n",
       "      <th>ScienceBasedTargets</th>\n",
       "      <th>Country</th>\n",
       "      <th>Symbol</th>\n",
       "    </tr>\n",
       "  </thead>\n",
       "  <tbody>\n",
       "    <tr>\n",
       "      <th>0</th>\n",
       "      <td>0</td>\n",
       "      <td>1&amp;1 Drillisch AG</td>\n",
       "      <td>4</td>\n",
       "      <td>0.0</td>\n",
       "      <td>0.0</td>\n",
       "      <td>na</td>\n",
       "      <td>na</td>\n",
       "    </tr>\n",
       "    <tr>\n",
       "      <th>1</th>\n",
       "      <td>1</td>\n",
       "      <td>2U Inc</td>\n",
       "      <td>9</td>\n",
       "      <td>0.0</td>\n",
       "      <td>0.0</td>\n",
       "      <td>na</td>\n",
       "      <td>na</td>\n",
       "    </tr>\n",
       "    <tr>\n",
       "      <th>2</th>\n",
       "      <td>2</td>\n",
       "      <td>3i Group PLC</td>\n",
       "      <td>50</td>\n",
       "      <td>0.0</td>\n",
       "      <td>0.0</td>\n",
       "      <td>na</td>\n",
       "      <td>na</td>\n",
       "    </tr>\n",
       "    <tr>\n",
       "      <th>3</th>\n",
       "      <td>3</td>\n",
       "      <td>51job Inc</td>\n",
       "      <td>9</td>\n",
       "      <td>0.0</td>\n",
       "      <td>0.0</td>\n",
       "      <td>na</td>\n",
       "      <td>na</td>\n",
       "    </tr>\n",
       "    <tr>\n",
       "      <th>4</th>\n",
       "      <td>4</td>\n",
       "      <td>58.com Inc</td>\n",
       "      <td>6</td>\n",
       "      <td>0.0</td>\n",
       "      <td>0.0</td>\n",
       "      <td>na</td>\n",
       "      <td>na</td>\n",
       "    </tr>\n",
       "  </tbody>\n",
       "</table>\n",
       "</div>"
      ],
      "text/plain": [
       "   Unnamed: 0             Company  ESG score  Clean200  ScienceBasedTargets  \\\n",
       "0           0   1&1 Drillisch AG           4       0.0                  0.0   \n",
       "1           1             2U Inc           9       0.0                  0.0   \n",
       "2           2       3i Group PLC          50       0.0                  0.0   \n",
       "3           3          51job Inc           9       0.0                  0.0   \n",
       "4           4         58.com Inc           6       0.0                  0.0   \n",
       "\n",
       "  Country Symbol  \n",
       "0      na     na  \n",
       "1      na     na  \n",
       "2      na     na  \n",
       "3      na     na  \n",
       "4      na     na  "
      ]
     },
     "execution_count": 50,
     "metadata": {},
     "output_type": "execute_result"
    }
   ],
   "source": [
    "df_combined.head()"
   ]
  },
  {
   "cell_type": "markdown",
   "metadata": {
    "slideshow": {
     "slide_type": "slide"
    }
   },
   "source": [
    "Next, I need to continue working on stock symbols, since I need them for acquiring beta-coefficients and dividend history on individual stocks.\n",
    "\n",
    "All the data is openly available."
   ]
  },
  {
   "cell_type": "markdown",
   "metadata": {
    "slideshow": {
     "slide_type": "slide"
    }
   },
   "source": [
    "### 3. Challenges\n",
    "\n",
    "1. All the data is not available to download in usable format (excel-file, csv).\n",
    "\n",
    "2. Spelling of company names vary in different sources, especially acronyms e.g. ltd <-> limited.\n",
    "\n",
    "3. Good list of stock symbols challenging to find."
   ]
  },
  {
   "cell_type": "markdown",
   "metadata": {
    "slideshow": {
     "slide_type": "slide"
    }
   },
   "source": [
    "### 4. Size of data\n",
    "\n",
    "At the moment, 3198 instances (companies) with six attributes. \n",
    "\n",
    "- Attributes will increase from here with at least 2.\n",
    "\n",
    "- Instances will decrease. My preliminary plan was to have around 200 companies.\n",
    "\n",
    "Data can be updated, but at the moment I don't see reason for it, since most of my data is annual. \n",
    "\n",
    " $\\Rightarrow$ ESG-rating agencies publish their reports once a year, dividends are mostly paid annually or semi-annually etc."
   ]
  },
  {
   "cell_type": "markdown",
   "metadata": {
    "slideshow": {
     "slide_type": "slide"
    }
   },
   "source": [
    "### 5. Normalization\n",
    "\n",
    "Normalization is needed at least for these pieces of data:\n",
    "\n",
    " 1. **Robecosam's** rating is between 0 and 100, where as for other two it is either 0 or 1.\n",
    " \n",
    "   $\\Rightarrow$ Plan is to normalize Robecosam's scores between 0 and 1 as well.\n",
    "   \n",
    " 2. Dividends paid.\n",
    " \n",
    "   $\\Rightarrow$ Information is in local currency (USD, EUR), so they are not comparable. One solution could be using e.g. **dividend     yield**, which is \n",
    "   \n",
    "   $\\frac{\\text{dividend paid}}{\\text{share price}}$\n",
    "   \n",
    "   to escape the currency differences.\n",
    "   "
   ]
  }
 ],
 "metadata": {
  "celltoolbar": "Slideshow",
  "kernelspec": {
   "display_name": "Python 3",
   "language": "python",
   "name": "python3"
  },
  "language_info": {
   "codemirror_mode": {
    "name": "ipython",
    "version": 3
   },
   "file_extension": ".py",
   "mimetype": "text/x-python",
   "name": "python",
   "nbconvert_exporter": "python",
   "pygments_lexer": "ipython3",
   "version": "3.7.7"
  }
 },
 "nbformat": 4,
 "nbformat_minor": 4
}
