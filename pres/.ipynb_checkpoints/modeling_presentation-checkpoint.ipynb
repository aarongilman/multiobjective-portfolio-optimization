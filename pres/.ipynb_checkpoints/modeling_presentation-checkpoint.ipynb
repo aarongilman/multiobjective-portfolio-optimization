{
 "cells": [
  {
   "cell_type": "markdown",
   "metadata": {
    "slideshow": {
     "slide_type": "slide"
    }
   },
   "source": [
    "# Modeling\n",
    "\n",
    "## Multiobjective portfolio optimization\n",
    "\n",
    "### Antti Luopajärvi"
   ]
  },
  {
   "cell_type": "code",
   "execution_count": 12,
   "metadata": {
    "slideshow": {
     "slide_type": "skip"
    }
   },
   "outputs": [],
   "source": [
    "import pandas as pd\n",
    "data = pd.read_csv(r'..\\data\\version_12.csv')"
   ]
  },
  {
   "cell_type": "markdown",
   "metadata": {
    "slideshow": {
     "slide_type": "slide"
    }
   },
   "source": [
    "### 1. Decision making problem overview and aim\n",
    "\n",
    "Rather than just optimizing portfolio subject to traditional financial aims, adding some objectives related to sustainability factors.\n",
    "\n",
    "This creates an opportunity to observe whether these two areas are conflicting or if the sustainability can be seen in the business' performance.\n",
    "\n",
    "The **aim of the problem** is determine which of the assets to include in an investment portfolio, and how much to invest in them, by taking in consideration multiple objectives."
   ]
  },
  {
   "cell_type": "markdown",
   "metadata": {
    "slideshow": {
     "slide_type": "slide"
    }
   },
   "source": [
    "### 2. Objectives\n",
    "\n",
    "There are five objectives for portfolio:\n",
    "\n",
    "1. Maximize expected return.\n",
    "2. Maximize environmental, social, and corporate- sustainability.\n",
    "3. Maximize dividend yield.\n",
    "4. Maximize clean energy use.\n",
    "5. Minimize price-earnings ratio.\n",
    "\n",
    "\n",
    "\n"
   ]
  },
  {
   "cell_type": "markdown",
   "metadata": {
    "slideshow": {
     "slide_type": "slide"
    }
   },
   "source": [
    "### 3. Modeling the problem\n",
    "\n",
    "Plan is to use the **proportional amount** of investment into a company $i$ as decision variable $x_i$, such that\n",
    "\n",
    " $ 0 \\leq x_i \\leq 1, i = 1,..,n$.\n",
    "\n",
    "Sum of proportional amounts, weights, should be 1.\n",
    "\n",
    " $\\sum_{i=1}^n x_i = 1.$\n",
    "\n",
    "The optimization problem could be then modelled as\n",
    "$$\n",
    "\\begin{align}\n",
    " \\text{maximize } &\\{\\sum_{i=1}^{n} r_ix_i,\\sum_{i=1}^{n} s_ix_i,\\sum_{i=1}^{n} d_ix_i,\\sum_{i=1}^{n} c_ix_i,-\\sum_{i=1}^{n} p_ix_i\\}\\\\\n",
    " \\text{s.t. } &\\sum_{i=1}^n x_i = 1\\\\\n",
    "  &0 \\leq x_i \\leq 1, i = 1,..,n\n",
    "\\end{align}\n",
    "$$\n",
    "\n",
    "where $r_i, s_i, d_i, c_i, p_i$ are expected return for investment, ESG-sustainability, dividend yield, clean energy use, and price-earnings-ratio for company $i$, respectively."
   ]
  },
  {
   "cell_type": "markdown",
   "metadata": {
    "slideshow": {
     "slide_type": "slide"
    }
   },
   "source": [
    "### 4. Modeling the objectives\n",
    "\n",
    "1. Variable for expected return, $r_i$, is calculated as \n",
    "\n",
    "$$\n",
    "\\begin{align}\n",
    "r_i &= R_{f_m} + \\beta_i(ER_m-R_{f_m}),\\\\\n",
    "\\text{where}\\\\\n",
    "R_{f_m} &= \\text{ the risk free-rate for market m},\\\\\n",
    "\\beta_i &= \\text{ beta coefficient for company i},\\\\\n",
    "ER_m &= \\text{ expected average return on market m}.\\\\\n",
    "\\end{align}\n",
    "$$\n",
    "\n",
    "2. For $s_i$(ESG-sustainability), $d_i$(dividend yield), and $p_i$(price-earnings), the values are those of corresponding attribute values in data for company $i$.\n",
    "\n",
    "3. For $c_i$(clean energy use), variable value is calculated as a sum of attributes 'Clean200' and 'ScienceBasedTargets' for company $i$. \n"
   ]
  },
  {
   "cell_type": "code",
   "execution_count": 13,
   "metadata": {
    "slideshow": {
     "slide_type": "subslide"
    }
   },
   "outputs": [
    {
     "data": {
      "text/html": [
       "<div>\n",
       "<style scoped>\n",
       "    .dataframe tbody tr th:only-of-type {\n",
       "        vertical-align: middle;\n",
       "    }\n",
       "\n",
       "    .dataframe tbody tr th {\n",
       "        vertical-align: top;\n",
       "    }\n",
       "\n",
       "    .dataframe thead th {\n",
       "        text-align: right;\n",
       "    }\n",
       "</style>\n",
       "<table border=\"1\" class=\"dataframe\">\n",
       "  <thead>\n",
       "    <tr style=\"text-align: right;\">\n",
       "      <th></th>\n",
       "      <th>Company</th>\n",
       "      <th>ESG score</th>\n",
       "      <th>Clean200</th>\n",
       "      <th>ScienceBasedTargets</th>\n",
       "      <th>Country</th>\n",
       "      <th>Symbol NQ</th>\n",
       "      <th>Symbol NYSE</th>\n",
       "      <th>Symbol NQ North</th>\n",
       "      <th>Beta</th>\n",
       "      <th>Dividend yield</th>\n",
       "      <th>P/E</th>\n",
       "    </tr>\n",
       "  </thead>\n",
       "  <tbody>\n",
       "    <tr>\n",
       "      <th>0</th>\n",
       "      <td>ABB Ltd</td>\n",
       "      <td>0.44</td>\n",
       "      <td>1.0</td>\n",
       "      <td>1.0</td>\n",
       "      <td>Switzerland</td>\n",
       "      <td>na</td>\n",
       "      <td>ABB</td>\n",
       "      <td>ABB</td>\n",
       "      <td>1.149544</td>\n",
       "      <td>3.02</td>\n",
       "      <td>25.985073</td>\n",
       "    </tr>\n",
       "    <tr>\n",
       "      <th>1</th>\n",
       "      <td>Abbott Laboratories</td>\n",
       "      <td>0.85</td>\n",
       "      <td>0.0</td>\n",
       "      <td>0.0</td>\n",
       "      <td>na</td>\n",
       "      <td>na</td>\n",
       "      <td>DLB</td>\n",
       "      <td>na</td>\n",
       "      <td>0.880157</td>\n",
       "      <td>1.05</td>\n",
       "      <td>29.787233</td>\n",
       "    </tr>\n",
       "    <tr>\n",
       "      <th>2</th>\n",
       "      <td>AbbVie Inc</td>\n",
       "      <td>0.76</td>\n",
       "      <td>0.0</td>\n",
       "      <td>0.0</td>\n",
       "      <td>na</td>\n",
       "      <td>na</td>\n",
       "      <td>ABBV</td>\n",
       "      <td>na</td>\n",
       "      <td>0.814669</td>\n",
       "      <td>3.85</td>\n",
       "      <td>15.831438</td>\n",
       "    </tr>\n",
       "    <tr>\n",
       "      <th>3</th>\n",
       "      <td>Accenture PLC</td>\n",
       "      <td>0.54</td>\n",
       "      <td>1.0</td>\n",
       "      <td>1.0</td>\n",
       "      <td>Ireland</td>\n",
       "      <td>na</td>\n",
       "      <td>ACN</td>\n",
       "      <td>na</td>\n",
       "      <td>1.037328</td>\n",
       "      <td>1.79</td>\n",
       "      <td>22.891064</td>\n",
       "    </tr>\n",
       "    <tr>\n",
       "      <th>4</th>\n",
       "      <td>Advance Auto Parts Inc</td>\n",
       "      <td>0.12</td>\n",
       "      <td>0.0</td>\n",
       "      <td>0.0</td>\n",
       "      <td>na</td>\n",
       "      <td>na</td>\n",
       "      <td>AAP</td>\n",
       "      <td>na</td>\n",
       "      <td>1.077930</td>\n",
       "      <td>0.17</td>\n",
       "      <td>17.191519</td>\n",
       "    </tr>\n",
       "  </tbody>\n",
       "</table>\n",
       "</div>"
      ],
      "text/plain": [
       "                    Company  ESG score  Clean200  ScienceBasedTargets  \\\n",
       "0                  ABB Ltd        0.44       1.0                  1.0   \n",
       "1      Abbott Laboratories        0.85       0.0                  0.0   \n",
       "2               AbbVie Inc        0.76       0.0                  0.0   \n",
       "3            Accenture PLC        0.54       1.0                  1.0   \n",
       "4   Advance Auto Parts Inc        0.12       0.0                  0.0   \n",
       "\n",
       "       Country Symbol NQ Symbol NYSE Symbol NQ North      Beta  \\\n",
       "0  Switzerland        na         ABB             ABB  1.149544   \n",
       "1           na        na         DLB              na  0.880157   \n",
       "2           na        na        ABBV              na  0.814669   \n",
       "3      Ireland        na         ACN              na  1.037328   \n",
       "4           na        na         AAP              na  1.077930   \n",
       "\n",
       "   Dividend yield        P/E  \n",
       "0            3.02  25.985073  \n",
       "1            1.05  29.787233  \n",
       "2            3.85  15.831438  \n",
       "3            1.79  22.891064  \n",
       "4            0.17  17.191519  "
      ]
     },
     "execution_count": 13,
     "metadata": {},
     "output_type": "execute_result"
    }
   ],
   "source": [
    "data.head()"
   ]
  },
  {
   "cell_type": "markdown",
   "metadata": {
    "slideshow": {
     "slide_type": "slide"
    }
   },
   "source": [
    "### 5. Descriptive and predictive analytics\n",
    "\n",
    "- In all objectives, descriptive analytics is involved since all the data is historical.\n",
    "\n",
    "- Expected return and dividend yield are estimated using predictive analytics and are based on the assumption that history will repeat itself. In the short run especially, **this kind of analytics is risky**.\n",
    "\n",
    "- Sustainability, clean energy use, and p/e-ratio are solely based on what has **actually happened**. Of course, it cannot be foreseen for example if the company decides to stay on the green road forever. However, at the moment of decision making these facts can be relied on.\n",
    "\n"
   ]
  },
  {
   "cell_type": "markdown",
   "metadata": {
    "slideshow": {
     "slide_type": "slide"
    }
   },
   "source": [
    "### 6. Challenges\n",
    "\n",
    "1. Whether the decision variables should be binary instead of continuous ones.\n",
    "\n",
    "2. Optimization method."
   ]
  },
  {
   "cell_type": "markdown",
   "metadata": {
    "slideshow": {
     "slide_type": "slide"
    }
   },
   "source": [
    "## <center>Thank you.</center>"
   ]
  }
 ],
 "metadata": {
  "celltoolbar": "Slideshow",
  "kernelspec": {
   "display_name": "Python 3",
   "language": "python",
   "name": "python3"
  },
  "language_info": {
   "codemirror_mode": {
    "name": "ipython",
    "version": 3
   },
   "file_extension": ".py",
   "mimetype": "text/x-python",
   "name": "python",
   "nbconvert_exporter": "python",
   "pygments_lexer": "ipython3",
   "version": "3.7.7"
  }
 },
 "nbformat": 4,
 "nbformat_minor": 4
}
