{
 "cells": [
  {
   "cell_type": "markdown",
   "metadata": {},
   "source": [
    "# Data gathering and processing"
   ]
  },
  {
   "cell_type": "markdown",
   "metadata": {},
   "source": [
    "### 1. Finding datasets of environmental, social, and corporate(ESG)- sustainability rankings\n",
    "\n",
    "I found three sets of rankings on companies based on ESG factors:\n",
    "\n",
    "1. Robecosam https://yearbook.robecosam.com/ranking/\n",
    "Robecosam ranks companies by ESG-scores, from 0 to 100.\n",
    "\n",
    "2. Clean200 https://www.asyousow.org/report-page/2020-clean200\n",
    "\n",
    "3. ScienceBasedTargets https://sciencebasedtargets.org/companies-taking-action/\n",
    "\n",
    "\n",
    "Datasets 2 and 3 were available and free to download as xlsx-files. Set 1 was not, so I wrote a web scraper- script. After that I converted all the three into csv-files.\n"
   ]
  },
  {
   "cell_type": "markdown",
   "metadata": {},
   "source": [
    "### 2. Examining and combining data\n",
    "\n",
    "As I had examined the rankings before, I knew that there is some companies in either all of the three rankings or then on two out of three. My plan was to combine information on these three datasets into a single one. This way, I could find companies that are ranked high on ESG performance.\n",
    "\n",
    "I chose the Robecosam's ranking(1) as \"base\" dataset, since it has the most companies, ~3200. For each of these companies, would go through the dataset 2 and 3 and if the name of the company is found on these rankings, mark 1 for that one. Otherwise, mark 0."
   ]
  },
  {
   "cell_type": "code",
   "execution_count": null,
   "metadata": {},
   "outputs": [],
   "source": []
  }
 ],
 "metadata": {
  "kernelspec": {
   "display_name": "Python 3",
   "language": "python",
   "name": "python3"
  },
  "language_info": {
   "codemirror_mode": {
    "name": "ipython",
    "version": 3
   },
   "file_extension": ".py",
   "mimetype": "text/x-python",
   "name": "python",
   "nbconvert_exporter": "python",
   "pygments_lexer": "ipython3",
   "version": "3.7.7"
  }
 },
 "nbformat": 4,
 "nbformat_minor": 4
}
